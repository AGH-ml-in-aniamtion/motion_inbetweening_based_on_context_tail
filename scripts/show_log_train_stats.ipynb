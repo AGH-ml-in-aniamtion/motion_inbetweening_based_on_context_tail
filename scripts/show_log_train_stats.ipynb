{
 "cells": [
  {
   "cell_type": "code",
   "execution_count": 3,
   "metadata": {},
   "outputs": [
    {
     "data": {
      "text/html": [
       "<div>\n",
       "<style scoped>\n",
       "    .dataframe tbody tr th:only-of-type {\n",
       "        vertical-align: middle;\n",
       "    }\n",
       "\n",
       "    .dataframe tbody tr th {\n",
       "        vertical-align: top;\n",
       "    }\n",
       "\n",
       "    .dataframe thead th {\n",
       "        text-align: right;\n",
       "    }\n",
       "</style>\n",
       "<table border=\"1\" class=\"dataframe\">\n",
       "  <thead>\n",
       "    <tr style=\"text-align: right;\">\n",
       "      <th></th>\n",
       "      <th>a</th>\n",
       "      <th>b</th>\n",
       "      <th>c</th>\n",
       "    </tr>\n",
       "  </thead>\n",
       "  <tbody>\n",
       "    <tr>\n",
       "      <th>0</th>\n",
       "      <td>1</td>\n",
       "      <td>2</td>\n",
       "      <td>3</td>\n",
       "    </tr>\n",
       "    <tr>\n",
       "      <th>1</th>\n",
       "      <td>4</td>\n",
       "      <td>5</td>\n",
       "      <td>6</td>\n",
       "    </tr>\n",
       "    <tr>\n",
       "      <th>2</th>\n",
       "      <td>7</td>\n",
       "      <td>8</td>\n",
       "      <td>9</td>\n",
       "    </tr>\n",
       "  </tbody>\n",
       "</table>\n",
       "</div>"
      ],
      "text/plain": [
       "   a  b  c\n",
       "0  1  2  3\n",
       "1  4  5  6\n",
       "2  7  8  9"
      ]
     },
     "execution_count": 3,
     "metadata": {},
     "output_type": "execute_result"
    }
   ],
   "source": [
    "d = []\n",
    "d.append((1,2,3))\n",
    "d.append((4,5,6))\n",
    "d.append((7,8,9))\n",
    "\n",
    "import pandas as pd\n",
    "dfr = pd.DataFrame(d)\n",
    "dfr.columns = [\"a\",\"b\",\"c\"]\n",
    "dfr\n"
   ]
  },
  {
   "cell_type": "code",
   "execution_count": 7,
   "metadata": {},
   "outputs": [],
   "source": [
    "file = \"../tests/train_stats_context_n.pkl\"\n",
    "import pickle\n",
    "import matplotlib.pyplot as plt\n",
    "train_stats = pickle.load(open(file, \"rb\"))"
   ]
  },
  {
   "cell_type": "code",
   "execution_count": 9,
   "metadata": {},
   "outputs": [
    {
     "data": {
      "text/plain": [
       "{'mean': array([ 4.17992979e-02,  7.97950632e-01,  9.07712563e-01, -4.69629115e-02,\n",
       "        -3.82701660e-03, -8.74449755e-03, -7.92970883e-01,  3.71112710e-01,\n",
       "         3.54993620e-01,  7.82264263e-01,  1.30419027e-01,  1.32558845e-01,\n",
       "         5.26132288e-01,  6.50779622e-01, -6.54752882e-01,  5.24407730e-01,\n",
       "        -9.78160305e-04, -2.42240658e-02,  1.49134352e-01, -9.42235391e-01,\n",
       "         9.55514044e-01,  1.55381565e-01,  8.60475349e-03, -8.57733679e-02,\n",
       "         9.30707987e-01, -3.65763094e-01,  3.65763093e-01,  9.30707988e-01,\n",
       "        -5.39638067e-05, -2.20950705e-10, -8.03759350e-01,  3.66950645e-01,\n",
       "         3.59746666e-01,  7.99648846e-01, -1.07608940e-01, -9.39447865e-02,\n",
       "         5.23129421e-01,  6.57871881e-01, -6.62221889e-01,  5.19910154e-01,\n",
       "         9.89254835e-03,  7.55579194e-02,  1.12197020e-01, -9.42710888e-01,\n",
       "         9.58300668e-01,  1.14736724e-01,  2.29248790e-02,  1.20145031e-01,\n",
       "         9.30707949e-01, -3.65763189e-01,  3.65763188e-01,  9.30707951e-01,\n",
       "         5.42510559e-05, -3.02442333e-07,  9.82230662e-01, -1.75151299e-01,\n",
       "         1.75067971e-01,  9.82196213e-01,  8.95392310e-05,  2.47187419e-03,\n",
       "         9.75243294e-01, -1.75559048e-01,  1.75215133e-01,  9.75134288e-01,\n",
       "         3.88314301e-04,  4.78540288e-03,  9.76203103e-01, -1.70141904e-01,\n",
       "         1.69798720e-01,  9.76091856e-01,  3.57023429e-04,  4.78779709e-03,\n",
       "         9.43714318e-01, -8.23892987e-02,  9.69730011e-02,  9.44560531e-01,\n",
       "        -4.10002074e-02, -6.79309002e-03,  8.86633908e-01,  2.79134892e-01,\n",
       "        -3.34780609e-01,  8.90167206e-01,  2.85466841e-02,  1.16150628e-02,\n",
       "        -1.01385381e-01, -2.49103546e-02,  1.78761778e-02, -9.92545906e-01,\n",
       "         9.78940707e-01,  1.51676411e-02,  5.19050784e-01,  4.63271009e-01,\n",
       "        -2.46277947e-01,  6.97506473e-01, -6.26856254e-01,  4.30899309e-02,\n",
       "         3.67512131e-01,  7.47614649e-01, -7.31958922e-01,  3.91475256e-01,\n",
       "         1.91836696e-01,  3.63351438e-02,  9.04970925e-01, -6.70761715e-02,\n",
       "         4.57619119e-02,  8.39832186e-01,  1.94970034e-01,  1.99678639e-01,\n",
       "        -1.49282985e-01, -2.11599841e-02,  7.42162024e-02, -9.85596173e-01,\n",
       "        -9.63082838e-01, -7.10393191e-02,  5.62765387e-01,  3.55736471e-01,\n",
       "        -1.94247071e-01,  7.43376577e-01,  5.81311589e-01, -2.35273331e-02,\n",
       "         3.65895797e-01,  7.60208524e-01, -7.44780989e-01,  3.89916753e-01,\n",
       "        -1.92036572e-01, -3.69699292e-02,  9.15952156e-01, -6.51042817e-02,\n",
       "         2.39605229e-02,  8.79297569e-01, -1.76947703e-01, -2.35686054e-01,\n",
       "         2.62530109e+01,  8.22611467e+01, -1.43993497e+00]),\n",
       " 'std': array([2.78119872e-01, 3.42530252e-01, 2.22372656e-01, 3.15556018e-01,\n",
       "        2.17935342e-01, 3.79592194e-01, 2.77501498e-01, 3.42670159e-01,\n",
       "        3.42651904e-01, 2.87005658e-01, 1.83712214e-01, 1.81579312e-01,\n",
       "        4.81510370e-01, 2.41836507e-01, 2.44128284e-01, 4.76979035e-01,\n",
       "        5.50605694e-02, 1.22072581e-01, 2.24226639e-01, 7.52742812e-02,\n",
       "        6.46390602e-02, 2.25656670e-01, 1.01104012e-01, 1.55257261e-01,\n",
       "        2.27169381e-08, 5.78043280e-08, 5.78041707e-08, 2.27167812e-08,\n",
       "        9.02603100e-08, 3.76826755e-08, 2.64036532e-01, 3.32138835e-01,\n",
       "        3.33809298e-01, 2.74405922e-01, 1.78408582e-01, 1.77393653e-01,\n",
       "        4.75500452e-01, 2.37052393e-01, 2.40429175e-01, 4.67308118e-01,\n",
       "        6.15877313e-02, 1.28912016e-01, 2.32265519e-01, 7.36976343e-02,\n",
       "        5.79196892e-02, 2.33372409e-01, 1.06038419e-01, 1.54281611e-01,\n",
       "        2.09436047e-08, 5.32920042e-08, 5.32917680e-08, 2.09434680e-08,\n",
       "        8.80716658e-08, 3.75789551e-08, 1.26715926e-02, 5.94090682e-02,\n",
       "        5.94619014e-02, 1.25866937e-02, 2.96283002e-02, 3.03092451e-02,\n",
       "        2.98746815e-02, 1.17306625e-01, 1.17543934e-01, 2.95960591e-02,\n",
       "        5.90842703e-02, 6.02699736e-02, 2.92541279e-02, 1.17463126e-01,\n",
       "        1.17698197e-01, 2.89756541e-02, 5.90516583e-02, 6.03019323e-02,\n",
       "        6.38448701e-02, 2.47616900e-01, 2.50129500e-01, 5.73631805e-02,\n",
       "        1.77981945e-01, 1.90700280e-01, 9.90123375e-02, 2.22524547e-01,\n",
       "        2.17849020e-01, 9.59845811e-02, 2.09106923e-01, 2.66122029e-01,\n",
       "        1.31505304e-01, 1.16315535e-02, 1.15760685e-01, 1.23613338e-02,\n",
       "        1.95539782e-02, 1.17106559e-01, 1.86347883e-01, 3.07425570e-01,\n",
       "        3.59455330e-01, 2.30212380e-01, 3.36230614e-01, 3.86651948e-01,\n",
       "        4.72551755e-01, 2.18916358e-01, 2.20232494e-01, 4.88238650e-01,\n",
       "        1.43395052e-01, 1.40665211e-02, 1.55326102e-01, 1.32418057e-01,\n",
       "        2.39350592e-01, 2.04037163e-01, 2.43936989e-01, 4.37201810e-01,\n",
       "        1.49264723e-01, 1.49036689e-02, 1.47484182e-01, 2.24000313e-02,\n",
       "        2.54254185e-02, 1.49606059e-01, 1.89643586e-01, 3.16100373e-01,\n",
       "        3.87657787e-01, 2.55570991e-01, 3.48420409e-01, 3.93768098e-01,\n",
       "        4.62541393e-01, 1.98464878e-01, 2.01184856e-01, 4.78649645e-01,\n",
       "        1.41857720e-01, 1.36879210e-02, 1.43653197e-01, 1.41645150e-01,\n",
       "        2.24566398e-01, 1.49554493e-01, 2.40999468e-01, 3.53014739e-01,\n",
       "        6.44135390e+01, 2.80500576e+01, 3.41204631e+01])}"
      ]
     },
     "execution_count": 9,
     "metadata": {},
     "output_type": "execute_result"
    }
   ],
   "source": [
    "train_stats"
   ]
  },
  {
   "cell_type": "code",
   "execution_count": 8,
   "metadata": {},
   "outputs": [
    {
     "data": {
      "text/plain": [
       "[<matplotlib.lines.Line2D at 0x252b6ad6fb0>]"
      ]
     },
     "execution_count": 8,
     "metadata": {},
     "output_type": "execute_result"
    },
    {
     "data": {
      "image/png": "[encoded data removed]",
      "text/plain": [
       "<Figure size 640x480 with 1 Axes>"
      ]
     },
     "metadata": {},
     "output_type": "display_data"
    }
   ],
   "source": [
    "plt.plot(train_stats[\"mean\"])"
   ]
  },
  {
   "cell_type": "code",
   "execution_count": 9,
   "metadata": {},
   "outputs": [
    {
     "name": "stdout",
     "output_type": "stream",
     "text": [
      "      Epoch  Iteration  Learning Rate      Loss         R          P    Smooth\n",
      "0         1        100       0.000009  0.349365  0.139470  19.492431  2.994144\n",
      "1         1        200       0.000017  0.309149  0.132168  16.426582  2.542963\n",
      "2         1        300       0.000026  0.311958  0.131061  16.845995  2.487396\n",
      "3         1        400       0.000035  0.301695  0.130089  15.867129  2.586862\n",
      "4         1        500       0.000044  0.283200  0.121174  15.056955  2.291346\n",
      "...     ...        ...            ...       ...       ...        ...       ...\n",
      "2623     21     262400       0.000122  0.030462  0.016001   0.717513  1.457142\n",
      "2624     21     262500       0.000122  0.031619  0.016731   0.752250  1.473164\n",
      "2625     21     262600       0.000122  0.031571  0.016544   0.747052  1.511224\n",
      "2626     21     262700       0.000122  0.031088  0.016234   0.739209  1.492348\n",
      "2627     21     262800       0.000122  0.031120  0.016275   0.726881  1.515110\n",
      "\n",
      "[2628 rows x 7 columns]\n",
      "     Epoch  Iteration  Learning Rate      Loss         R         P    Smooth\n",
      "0       21     264100       0.000122  0.032543  0.017248  0.786941  1.485130\n",
      "1       21     264200       0.000122  0.031714  0.016768  0.761047  1.467004\n",
      "2       21     264300       0.000122  0.031947  0.016933  0.768545  1.465741\n",
      "3       21     264400       0.000122  0.032864  0.017352  0.795415  1.511597\n",
      "4       21     264500       0.000122  0.032446  0.017117  0.785614  1.494463\n",
      "..     ...        ...            ...       ...       ...       ...       ...\n",
      "204     22     284500       0.000117  0.030531  0.016030  0.719541  1.461091\n",
      "205     22     284600       0.000117  0.031612  0.016707  0.752754  1.475523\n",
      "206     22     284700       0.000117  0.030347  0.015855  0.707987  1.482492\n",
      "207     22     284800       0.000117  0.030144  0.015774  0.684765  1.504555\n",
      "208     22     284900       0.000117  0.031082  0.016397  0.730109  1.476879\n",
      "\n",
      "[209 rows x 7 columns]\n"
     ]
    }
   ],
   "source": [
    "import re\n",
    "import pandas as pd\n",
    "\n",
    "# Function to extract training stats\n",
    "def extract_training_stats(log_file):\n",
    "    # Define a pattern to match lines with training stats\n",
    "    pattern = r\"Epoch: (\\d+), Iteration: (\\d+), lr: ([\\d.e-]+), loss: ([\\d.e-]+), r: ([\\d.e-]+), p: ([\\d.e-]+), smooth: ([\\d.e-]+)\"\n",
    "    \n",
    "    # Initialize a list to store the stats\n",
    "    stats = []\n",
    "    \n",
    "    # Read the log file\n",
    "    with open(log_file, 'r') as f:\n",
    "        for line in f:\n",
    "            match = re.search(pattern, line)\n",
    "            if match:\n",
    "                # Extract matched groups\n",
    "                epoch, iteration, lr, loss, r, p, smooth = match.groups()\n",
    "                # Append as a dictionary\n",
    "                stats.append({\n",
    "                    'Epoch': int(epoch),\n",
    "                    'Iteration': int(iteration),\n",
    "                    'Learning Rate': float(lr),\n",
    "                    'Loss': float(loss),\n",
    "                    'R': float(r),\n",
    "                    'P': float(p),\n",
    "                    'Smooth': float(smooth),\n",
    "                })\n",
    "    \n",
    "    # Convert to Pandas DataFrame\n",
    "    df = pd.DataFrame(stats)\n",
    "    return df\n",
    "\n",
    "# Path to the log file\n",
    "\n",
    "# Extract training stats\n",
    "training_stats_df = extract_training_stats(\"../experiments/logs/slurm-13709407.out\")\n",
    "training_stats_df2 = extract_training_stats(\"../experiments/logs/slurm-13766177.out\")\n",
    "\n",
    "\n",
    "#concat the two dataframes\n",
    "training_stats_df = pd.concat([training_stats_df, training_stats_df2])\n",
    "# plot each stat\n",
    "for k in \n",
    "\n",
    "\n"
   ]
  },
  {
   "cell_type": "code",
   "execution_count": null,
   "metadata": {},
   "outputs": [],
   "source": []
  }
 ],
 "metadata": {
  "kernelspec": {
   "display_name": ".venv",
   "language": "python",
   "name": "python3"
  },
  "language_info": {
   "codemirror_mode": {
    "name": "ipython",
    "version": 3
   },
   "file_extension": ".py",
   "mimetype": "text/x-python",
   "name": "python",
   "nbconvert_exporter": "python",
   "pygments_lexer": "ipython3",
   "version": "3.10.5"
  }
 },
 "nbformat": 4,
 "nbformat_minor": 2
}
